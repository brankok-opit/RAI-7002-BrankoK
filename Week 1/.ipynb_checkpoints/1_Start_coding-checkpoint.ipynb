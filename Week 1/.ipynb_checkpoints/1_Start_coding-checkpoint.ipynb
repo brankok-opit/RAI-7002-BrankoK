{
 "cells": [
  {
   "cell_type": "markdown",
   "id": "0483a900",
   "metadata": {},
   "source": [
    "\n",
    "## Instructions\n",
    "\n",
    "To get the maximum value from the exercise, start with the empty notebook, and try to solve the exercises by relying only on what you've learned. Then, if you're really stuck, go to the filled notebook to see proposed solutions.\n"
   ]
  },
  {
   "cell_type": "markdown",
   "id": "27236a69",
   "metadata": {},
   "source": [
    "### Exercise: Compute Basic Statistics"
   ]
  },
  {
   "cell_type": "markdown",
   "id": "739a6d3a",
   "metadata": {},
   "source": [
    "Write a Python function to compute the mean, median, and mode from a given list of numbers."
   ]
  },
  {
   "cell_type": "code",
   "execution_count": null,
   "id": "47bd7c31",
   "metadata": {},
   "outputs": [],
   "source": [
    "# Put your code here...."
   ]
  }
 ],
 "metadata": {},
 "nbformat": 4,
 "nbformat_minor": 5
}
