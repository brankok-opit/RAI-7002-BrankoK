{
 "cells": [
  {
   "cell_type": "markdown",
   "id": "3b53e3b5",
   "metadata": {},
   "source": [
    "\n",
    "## Instructions\n",
    "\n",
    "To get the maximum value from the exercise, start with the empty notebook, and try to solve the exercises by relying only on what you've learned. Then, if you're really stuck, go to the filled notebook to see proposed solutions.\n"
   ]
  },
  {
   "cell_type": "markdown",
   "id": "4f5fa5ae",
   "metadata": {},
   "source": [
    "### Exercise: Compute Basic Statistics"
   ]
  },
  {
   "cell_type": "markdown",
   "id": "f3a50af6",
   "metadata": {},
   "source": [
    "Write a Python function to compute the mean, median, and mode from a given list of numbers."
   ]
  },
  {
   "cell_type": "code",
   "execution_count": null,
   "id": "17315462",
   "metadata": {},
   "outputs": [],
   "source": [
    "import numpy as np\n",
    "from scipy import stats\n",
    "\n",
    "def compute_statistics(data):\n",
    "    mean = np.mean(data)\n",
    "    median = np.median(data)\n",
    "    mode = stats.mode(data)[0][0]\n",
    "    return mean, median, mode\n",
    "\n",
    "# Example usage\n",
    "data = [1, 2, 2, 3, 4]\n",
    "mean, median, mode = compute_statistics(data)\n",
    "print(f\"Mean: {mean}, Median: {median}, Mode: {mode}\")"
   ]
  }
 ],
 "metadata": {},
 "nbformat": 4,
 "nbformat_minor": 5
}
